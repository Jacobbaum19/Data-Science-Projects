{
  "nbformat": 4,
  "nbformat_minor": 0,
  "metadata": {
    "colab": {
      "provenance": [],
      "authorship_tag": "ABX9TyNmvvCjmBYCneaYAJi459Lr",
      "include_colab_link": true
    },
    "kernelspec": {
      "name": "python3",
      "display_name": "Python 3"
    },
    "language_info": {
      "name": "python"
    }
  },
  "cells": [
    {
      "cell_type": "markdown",
      "metadata": {
        "id": "view-in-github",
        "colab_type": "text"
      },
      "source": [
        "<a href=\"https://colab.research.google.com/github/Jacobbaum19/Data-Science-Projects/blob/main/Linear_Regression_RNA_Fert_Example.ipynb\" target=\"_parent\"><img src=\"https://colab.research.google.com/assets/colab-badge.svg\" alt=\"Open In Colab\"/></a>"
      ]
    },
    {
      "cell_type": "markdown",
      "source": [
        "# Linear Regression 'RNA' Fertilizer Example, Y = 2x + ϵ.\n",
        "**Goal** is to predict crop yield given an amount of RNA-based fertillzer (in g per hectare.)"
      ],
      "metadata": {
        "id": "AiMj3HsP_pPu"
      }
    },
    {
      "cell_type": "code",
      "execution_count": 1,
      "metadata": {
        "id": "2F3AQ-HR_lBf"
      },
      "outputs": [],
      "source": [
        "# Start with making the x and y data\n",
        "\n",
        "import torch\n",
        "import matplotlib.pyplot as plt"
      ]
    },
    {
      "cell_type": "markdown",
      "source": [
        "Declaring random values for x.\n",
        "\n",
        "NOTE: I am starting with a very small x and y tensor to build up from there."
      ],
      "metadata": {
        "id": "jExfIva_C4lC"
      }
    },
    {
      "cell_type": "code",
      "source": [
        "# low_bound = 0\n",
        "# high_bound = 10\n",
        "\n",
        "# To get inital set and saving it to be repated later.\n",
        "# x = (high_bound - low_bound) * torch.rand(1,10) + low_bound\n",
        "# print(x)\n",
        "\n",
        "x= torch.tensor([8.2810, 5.7706, 3.8419, 7.8171, 7.5566, 1.7474, 5.0420, 4.3833, 9.6980, 4.4339])\n",
        "print(x)\n"
      ],
      "metadata": {
        "colab": {
          "base_uri": "https://localhost:8080/"
        },
        "id": "ta1953doAlFN",
        "outputId": "399c3b5e-3dcf-4b84-9613-26cb5af63d59"
      },
      "execution_count": 2,
      "outputs": [
        {
          "output_type": "stream",
          "name": "stdout",
          "text": [
            "tensor([8.2810, 5.7706, 3.8419, 7.8171, 7.5566, 1.7474, 5.0420, 4.3833, 9.6980,\n",
            "        4.4339])\n"
          ]
        }
      ]
    },
    {
      "cell_type": "markdown",
      "source": [
        "Calculating the Y values with the random noise."
      ],
      "metadata": {
        "id": "zwtwU9aYC8FP"
      }
    },
    {
      "cell_type": "code",
      "source": [
        "# Creating y.\n",
        "# Number of zeroes must match the previous tensor\n",
        "# Standard deviaton of 3 to try to simulate over fertilzerting crops.\n",
        "\n",
        "y = 2*x + torch.normal(mean=torch.zeros(10), std=3)\n",
        "print(y)"
      ],
      "metadata": {
        "colab": {
          "base_uri": "https://localhost:8080/"
        },
        "id": "uXu1bEeOCPWq",
        "outputId": "2c4fdf87-586b-4ee6-b7fc-d53a30926e4a"
      },
      "execution_count": 3,
      "outputs": [
        {
          "output_type": "stream",
          "name": "stdout",
          "text": [
            "tensor([14.0540,  8.0518,  8.7807, 15.1993, 14.0149,  0.6446, 12.2725,  2.4221,\n",
            "        11.9035,  6.4121])\n"
          ]
        }
      ]
    },
    {
      "cell_type": "code",
      "source": [
        "# Plotting the points\n",
        "\n",
        "fig, ax = plt.subplots()\n",
        "plt.title(\"RNA Based Fertilzer Linear Regression Example\")\n",
        "plt.xlabel(\"g per hectare of fertilizer.\")\n",
        "plt.ylabel(\"Crop Yield (tons per hecare)\")\n",
        "_ = ax.scatter(x, y)"
      ],
      "metadata": {
        "colab": {
          "base_uri": "https://localhost:8080/",
          "height": 472
        },
        "id": "Xqy49bhQDKD1",
        "outputId": "81a62af8-ffb0-4cfe-e1e9-9e40f46b51e2"
      },
      "execution_count": 4,
      "outputs": [
        {
          "output_type": "display_data",
          "data": {
            "text/plain": [
              "<Figure size 640x480 with 1 Axes>"
            ],
            "image/png": "[encoded data removed]"
          },
          "metadata": {}
        }
      ]
    },
    {
      "cell_type": "markdown",
      "source": [
        "Starting the regression model"
      ],
      "metadata": {
        "id": "5DsVD5L1EiVS"
      }
    },
    {
      "cell_type": "code",
      "source": [
        "# Starting the values low to make the model inaccurate at first to encourage learning.\n",
        "m = torch.tensor([0.5]).requires_grad_()\n",
        "b = torch.tensor([0.1]).requires_grad_()"
      ],
      "metadata": {
        "id": "MJTDD1dgEheK"
      },
      "execution_count": 5,
      "outputs": []
    },
    {
      "cell_type": "code",
      "source": [
        "def regression(my_m, my_x, my_b):\n",
        "  return my_m*my_x + my_b"
      ],
      "metadata": {
        "id": "2R5ctJjeFNU2"
      },
      "execution_count": 6,
      "outputs": []
    },
    {
      "cell_type": "code",
      "source": [
        "def regression_plot(my_x, my_y, my_b, my_m):\n",
        "  fig, ax = plt.subplots()\n",
        "\n",
        "  ax.scatter(my_x, my_y)\n",
        "\n",
        "  x_min, x_max = ax.get_xlim()\n",
        "  y_min = regression(x_min, my_m, my_b).detach().item()\n",
        "  y_max = regression(x_max, my_m, my_b).detach().item()\n",
        "\n",
        "  ax.set_xlim([x_min, x_max])\n",
        "  _ = ax.plot([x_min, x_max], [y_min, y_max])"
      ],
      "metadata": {
        "id": "TwH5jJ8zFd0N"
      },
      "execution_count": 7,
      "outputs": []
    },
    {
      "cell_type": "code",
      "source": [
        "# Run the first iterration, which performs quite poor.\n",
        "\n",
        "regression_plot(x, y, b, m)"
      ],
      "metadata": {
        "colab": {
          "base_uri": "https://localhost:8080/",
          "height": 430
        },
        "id": "PZ9iDpArF_GH",
        "outputId": "9ea20d51-9c65-4142-dc0e-7ecfe28086c2"
      },
      "execution_count": 8,
      "outputs": [
        {
          "output_type": "display_data",
          "data": {
            "text/plain": [
              "<Figure size 640x480 with 1 Axes>"
            ],
            "image/png": "[encoded data removed]"
          },
          "metadata": {}
        }
      ]
    },
    {
      "cell_type": "markdown",
      "source": [
        "# Machine Learning Time!"
      ],
      "metadata": {
        "id": "iCVG8jAyG55l"
      }
    },
    {
      "cell_type": "code",
      "source": [
        "# Step 1: Find the y-hat values\n",
        "\n",
        "y_hat = regression(m, x, b)\n",
        "print(y_hat)"
      ],
      "metadata": {
        "colab": {
          "base_uri": "https://localhost:8080/"
        },
        "id": "0AMLwnmVG8uu",
        "outputId": "67cec10b-430a-402a-8a5e-afa8e35cb2ec"
      },
      "execution_count": 9,
      "outputs": [
        {
          "output_type": "stream",
          "name": "stdout",
          "text": [
            "tensor([4.2405, 2.9853, 2.0210, 4.0086, 3.8783, 0.9737, 2.6210, 2.2916, 4.9490,\n",
            "        2.3169], grad_fn=<AddBackward0>)\n"
          ]
        }
      ]
    },
    {
      "cell_type": "code",
      "source": [
        "# Step 2: Set up the loss/cost function using MSE\n",
        "# Done by hand for practice\n",
        "\n",
        "def mse(my_y_hat, my_y):\n",
        "  sigma = torch.sum(my_y_hat-my_y)**2\n",
        "  return sigma/len(my_y)"
      ],
      "metadata": {
        "id": "gUAd7g0GHJgz"
      },
      "execution_count": 10,
      "outputs": []
    },
    {
      "cell_type": "code",
      "source": [
        "C = mse(y_hat, y)\n",
        "print(C)"
      ],
      "metadata": {
        "colab": {
          "base_uri": "https://localhost:8080/"
        },
        "id": "kHm2BifKHm7p",
        "outputId": "213741dd-cf0e-48fb-bc78-5a28e808e72a"
      },
      "execution_count": 11,
      "outputs": [
        {
          "output_type": "stream",
          "name": "stdout",
          "text": [
            "tensor(402.8380, grad_fn=<DivBackward0>)\n"
          ]
        }
      ]
    },
    {
      "cell_type": "code",
      "source": [
        "# Step 3: Calcuate gradient\n",
        "C.backward()\n",
        "\n",
        "# Access gradients, m seems to decrease the cost function the most.\n",
        "print(m.grad)\n",
        "print(b.grad)\n"
      ],
      "metadata": {
        "colab": {
          "base_uri": "https://localhost:8080/"
        },
        "id": "3lLdFMtTICV8",
        "outputId": "756fdc84-e85d-4996-e2ba-26f1dbaba857"
      },
      "execution_count": 12,
      "outputs": [
        {
          "output_type": "stream",
          "name": "stdout",
          "text": [
            "tensor([-743.5048])\n",
            "tensor([-126.9390])\n"
          ]
        }
      ]
    },
    {
      "cell_type": "code",
      "source": [
        "# Step 4: Optimizer using Pytorch's SGD\n",
        "\n",
        "optimizer = torch.optim.SGD([m, b], lr=0.001)\n",
        "optimizer.step()"
      ],
      "metadata": {
        "id": "g-_Ntx3wJQVC"
      },
      "execution_count": 13,
      "outputs": []
    },
    {
      "cell_type": "markdown",
      "source": [
        "Checking m and b got changed... Although they are worse now..."
      ],
      "metadata": {
        "id": "GhUBt5NsJxJ_"
      }
    },
    {
      "cell_type": "code",
      "source": [
        "m"
      ],
      "metadata": {
        "colab": {
          "base_uri": "https://localhost:8080/"
        },
        "id": "8a6YQXHLJrNe",
        "outputId": "9a00071d-7d97-4e0b-dc9b-5d97770b50ed"
      },
      "execution_count": 14,
      "outputs": [
        {
          "output_type": "execute_result",
          "data": {
            "text/plain": [
              "tensor([1.2435], requires_grad=True)"
            ]
          },
          "metadata": {},
          "execution_count": 14
        }
      ]
    },
    {
      "cell_type": "code",
      "source": [
        "b"
      ],
      "metadata": {
        "colab": {
          "base_uri": "https://localhost:8080/"
        },
        "id": "3C8Ol74OJsY_",
        "outputId": "0f77e7ea-e1ef-4265-f364-5b0016574d80"
      },
      "execution_count": 15,
      "outputs": [
        {
          "output_type": "execute_result",
          "data": {
            "text/plain": [
              "tensor([0.2269], requires_grad=True)"
            ]
          },
          "metadata": {},
          "execution_count": 15
        }
      ]
    },
    {
      "cell_type": "code",
      "source": [
        "regression_plot(x, y, b, m)"
      ],
      "metadata": {
        "colab": {
          "base_uri": "https://localhost:8080/",
          "height": 430
        },
        "id": "idCMyWNOJ4Cz",
        "outputId": "3c844668-9f9b-4a46-f0d1-834e87a78c6f"
      },
      "execution_count": 16,
      "outputs": [
        {
          "output_type": "display_data",
          "data": {
            "text/plain": [
              "<Figure size 640x480 with 1 Axes>"
            ],
            "image/png": "[encoded data removed]"
          },
          "metadata": {}
        }
      ]
    },
    {
      "cell_type": "code",
      "source": [
        "# Checking if the cost function decreased. It did! LEARNING!!!\n",
        "\n",
        "C= mse(regression(m, x, b), y)\n",
        "C"
      ],
      "metadata": {
        "colab": {
          "base_uri": "https://localhost:8080/"
        },
        "id": "if4ePRVaKRla",
        "outputId": "5d08e490-a259-4be3-afa9-d854dabb7300"
      },
      "execution_count": 17,
      "outputs": [
        {
          "output_type": "execute_result",
          "data": {
            "text/plain": [
              "tensor(34.7886, grad_fn=<DivBackward0>)"
            ]
          },
          "metadata": {},
          "execution_count": 17
        }
      ]
    },
    {
      "cell_type": "code",
      "source": [
        "# More learning time!\n",
        "# Picked 200 after running it the first time with 1000. It learns pretty quickly after 10 runs.\n",
        "\n",
        "epochs = 200\n",
        "for epoch in range(epochs):\n",
        "\n",
        "    optimizer.zero_grad()\n",
        "\n",
        "    yhat = regression(x, m, b) # Step 1\n",
        "    C = mse(yhat, y) # Step 2\n",
        "\n",
        "    C.backward() # Step 3\n",
        "    optimizer.step() # Step 4\n",
        "\n",
        "    print(f'Epoch {epoch}, cost {C.item():.3g}, m grad {m.grad.item():.3g}, b grad {b.grad.item():.3g}')"
      ],
      "metadata": {
        "colab": {
          "base_uri": "https://localhost:8080/"
        },
        "id": "gBN4HTrBKsjN",
        "outputId": "b77d5123-8f0c-4ae1-d7c8-2048e8d07e73"
      },
      "execution_count": 18,
      "outputs": [
        {
          "output_type": "stream",
          "name": "stdout",
          "text": [
            "Epoch 0, cost 34.8, m grad -218, b grad -37.3\n",
            "Epoch 1, cost 3, m grad -64.2, b grad -11\n",
            "Epoch 2, cost 0.259, m grad -18.9, b grad -3.22\n",
            "Epoch 3, cost 0.0224, m grad -5.54, b grad -0.947\n",
            "Epoch 4, cost 0.00193, m grad -1.63, b grad -0.278\n",
            "Epoch 5, cost 0.000167, m grad -0.479, b grad -0.0817\n",
            "Epoch 6, cost 1.44e-05, m grad -0.141, b grad -0.024\n",
            "Epoch 7, cost 1.25e-06, m grad -0.0414, b grad -0.00706\n",
            "Epoch 8, cost 1.08e-07, m grad -0.0122, b grad -0.00208\n",
            "Epoch 9, cost 9.2e-09, m grad -0.00355, b grad -0.000607\n",
            "Epoch 10, cost 7.78e-10, m grad -0.00103, b grad -0.000176\n",
            "Epoch 11, cost 5.91e-11, m grad -0.000285, b grad -4.86e-05\n",
            "Epoch 12, cost 1e-11, m grad -0.000117, b grad -2e-05\n",
            "Epoch 13, cost 8.19e-13, m grad -3.35e-05, b grad -5.72e-06\n",
            "Epoch 14, cost 8.19e-13, m grad -3.35e-05, b grad -5.72e-06\n",
            "Epoch 15, cost 8.19e-13, m grad -3.35e-05, b grad -5.72e-06\n",
            "Epoch 16, cost 8.19e-13, m grad -3.35e-05, b grad -5.72e-06\n",
            "Epoch 17, cost 8.19e-13, m grad -3.35e-05, b grad -5.72e-06\n",
            "Epoch 18, cost 8.19e-13, m grad -3.35e-05, b grad -5.72e-06\n",
            "Epoch 19, cost 8.19e-13, m grad -3.35e-05, b grad -5.72e-06\n",
            "Epoch 20, cost 8.19e-13, m grad -3.35e-05, b grad -5.72e-06\n",
            "Epoch 21, cost 8.19e-13, m grad -3.35e-05, b grad -5.72e-06\n",
            "Epoch 22, cost 8.19e-13, m grad -3.35e-05, b grad -5.72e-06\n",
            "Epoch 23, cost 8.19e-13, m grad -3.35e-05, b grad -5.72e-06\n",
            "Epoch 24, cost 8.19e-13, m grad -3.35e-05, b grad -5.72e-06\n",
            "Epoch 25, cost 8.19e-13, m grad -3.35e-05, b grad -5.72e-06\n",
            "Epoch 26, cost 8.19e-13, m grad -3.35e-05, b grad -5.72e-06\n",
            "Epoch 27, cost 8.19e-13, m grad -3.35e-05, b grad -5.72e-06\n",
            "Epoch 28, cost 8.19e-13, m grad -3.35e-05, b grad -5.72e-06\n",
            "Epoch 29, cost 8.19e-13, m grad -3.35e-05, b grad -5.72e-06\n",
            "Epoch 30, cost 8.19e-13, m grad -3.35e-05, b grad -5.72e-06\n",
            "Epoch 31, cost 8.19e-13, m grad -3.35e-05, b grad -5.72e-06\n",
            "Epoch 32, cost 8.19e-13, m grad -3.35e-05, b grad -5.72e-06\n",
            "Epoch 33, cost 8.19e-13, m grad -3.35e-05, b grad -5.72e-06\n",
            "Epoch 34, cost 8.19e-13, m grad -3.35e-05, b grad -5.72e-06\n",
            "Epoch 35, cost 8.19e-13, m grad -3.35e-05, b grad -5.72e-06\n",
            "Epoch 36, cost 8.19e-13, m grad -3.35e-05, b grad -5.72e-06\n",
            "Epoch 37, cost 8.19e-13, m grad -3.35e-05, b grad -5.72e-06\n",
            "Epoch 38, cost 8.19e-13, m grad -3.35e-05, b grad -5.72e-06\n",
            "Epoch 39, cost 8.19e-13, m grad -3.35e-05, b grad -5.72e-06\n",
            "Epoch 40, cost 8.19e-13, m grad -3.35e-05, b grad -5.72e-06\n",
            "Epoch 41, cost 8.19e-13, m grad -3.35e-05, b grad -5.72e-06\n",
            "Epoch 42, cost 8.19e-13, m grad -3.35e-05, b grad -5.72e-06\n",
            "Epoch 43, cost 8.19e-13, m grad -3.35e-05, b grad -5.72e-06\n",
            "Epoch 44, cost 8.19e-13, m grad -3.35e-05, b grad -5.72e-06\n",
            "Epoch 45, cost 8.19e-13, m grad -3.35e-05, b grad -5.72e-06\n",
            "Epoch 46, cost 8.19e-13, m grad -3.35e-05, b grad -5.72e-06\n",
            "Epoch 47, cost 8.19e-13, m grad -3.35e-05, b grad -5.72e-06\n",
            "Epoch 48, cost 8.19e-13, m grad -3.35e-05, b grad -5.72e-06\n",
            "Epoch 49, cost 8.19e-13, m grad -3.35e-05, b grad -5.72e-06\n",
            "Epoch 50, cost 8.19e-13, m grad -3.35e-05, b grad -5.72e-06\n",
            "Epoch 51, cost 8.19e-13, m grad -3.35e-05, b grad -5.72e-06\n",
            "Epoch 52, cost 8.19e-13, m grad -3.35e-05, b grad -5.72e-06\n",
            "Epoch 53, cost 8.19e-13, m grad -3.35e-05, b grad -5.72e-06\n",
            "Epoch 54, cost 8.19e-13, m grad -3.35e-05, b grad -5.72e-06\n",
            "Epoch 55, cost 8.19e-13, m grad -3.35e-05, b grad -5.72e-06\n",
            "Epoch 56, cost 8.19e-13, m grad -3.35e-05, b grad -5.72e-06\n",
            "Epoch 57, cost 8.19e-13, m grad -3.35e-05, b grad -5.72e-06\n",
            "Epoch 58, cost 8.19e-13, m grad -3.35e-05, b grad -5.72e-06\n",
            "Epoch 59, cost 8.19e-13, m grad -3.35e-05, b grad -5.72e-06\n",
            "Epoch 60, cost 8.19e-13, m grad -3.35e-05, b grad -5.72e-06\n",
            "Epoch 61, cost 8.19e-13, m grad -3.35e-05, b grad -5.72e-06\n",
            "Epoch 62, cost 8.19e-13, m grad -3.35e-05, b grad -5.72e-06\n",
            "Epoch 63, cost 8.19e-13, m grad -3.35e-05, b grad -5.72e-06\n",
            "Epoch 64, cost 8.19e-13, m grad -3.35e-05, b grad -5.72e-06\n",
            "Epoch 65, cost 8.19e-13, m grad -3.35e-05, b grad -5.72e-06\n",
            "Epoch 66, cost 8.19e-13, m grad -3.35e-05, b grad -5.72e-06\n",
            "Epoch 67, cost 8.19e-13, m grad -3.35e-05, b grad -5.72e-06\n",
            "Epoch 68, cost 8.19e-13, m grad -3.35e-05, b grad -5.72e-06\n",
            "Epoch 69, cost 8.19e-13, m grad -3.35e-05, b grad -5.72e-06\n",
            "Epoch 70, cost 8.19e-13, m grad -3.35e-05, b grad -5.72e-06\n",
            "Epoch 71, cost 8.19e-13, m grad -3.35e-05, b grad -5.72e-06\n",
            "Epoch 72, cost 8.19e-13, m grad -3.35e-05, b grad -5.72e-06\n",
            "Epoch 73, cost 8.19e-13, m grad -3.35e-05, b grad -5.72e-06\n",
            "Epoch 74, cost 8.19e-13, m grad -3.35e-05, b grad -5.72e-06\n",
            "Epoch 75, cost 8.19e-13, m grad -3.35e-05, b grad -5.72e-06\n",
            "Epoch 76, cost 8.19e-13, m grad -3.35e-05, b grad -5.72e-06\n",
            "Epoch 77, cost 8.19e-13, m grad -3.35e-05, b grad -5.72e-06\n",
            "Epoch 78, cost 8.19e-13, m grad -3.35e-05, b grad -5.72e-06\n",
            "Epoch 79, cost 8.19e-13, m grad -3.35e-05, b grad -5.72e-06\n",
            "Epoch 80, cost 8.19e-13, m grad -3.35e-05, b grad -5.72e-06\n",
            "Epoch 81, cost 8.19e-13, m grad -3.35e-05, b grad -5.72e-06\n",
            "Epoch 82, cost 8.19e-13, m grad -3.35e-05, b grad -5.72e-06\n",
            "Epoch 83, cost 8.19e-13, m grad -3.35e-05, b grad -5.72e-06\n",
            "Epoch 84, cost 8.19e-13, m grad -3.35e-05, b grad -5.72e-06\n",
            "Epoch 85, cost 8.19e-13, m grad -3.35e-05, b grad -5.72e-06\n",
            "Epoch 86, cost 8.19e-13, m grad -3.35e-05, b grad -5.72e-06\n",
            "Epoch 87, cost 8.19e-13, m grad -3.35e-05, b grad -5.72e-06\n",
            "Epoch 88, cost 8.19e-13, m grad -3.35e-05, b grad -5.72e-06\n",
            "Epoch 89, cost 8.19e-13, m grad -3.35e-05, b grad -5.72e-06\n",
            "Epoch 90, cost 8.19e-13, m grad -3.35e-05, b grad -5.72e-06\n",
            "Epoch 91, cost 8.19e-13, m grad -3.35e-05, b grad -5.72e-06\n",
            "Epoch 92, cost 8.19e-13, m grad -3.35e-05, b grad -5.72e-06\n",
            "Epoch 93, cost 8.19e-13, m grad -3.35e-05, b grad -5.72e-06\n",
            "Epoch 94, cost 8.19e-13, m grad -3.35e-05, b grad -5.72e-06\n",
            "Epoch 95, cost 8.19e-13, m grad -3.35e-05, b grad -5.72e-06\n",
            "Epoch 96, cost 8.19e-13, m grad -3.35e-05, b grad -5.72e-06\n",
            "Epoch 97, cost 8.19e-13, m grad -3.35e-05, b grad -5.72e-06\n",
            "Epoch 98, cost 8.19e-13, m grad -3.35e-05, b grad -5.72e-06\n",
            "Epoch 99, cost 8.19e-13, m grad -3.35e-05, b grad -5.72e-06\n",
            "Epoch 100, cost 8.19e-13, m grad -3.35e-05, b grad -5.72e-06\n",
            "Epoch 101, cost 8.19e-13, m grad -3.35e-05, b grad -5.72e-06\n",
            "Epoch 102, cost 8.19e-13, m grad -3.35e-05, b grad -5.72e-06\n",
            "Epoch 103, cost 8.19e-13, m grad -3.35e-05, b grad -5.72e-06\n",
            "Epoch 104, cost 8.19e-13, m grad -3.35e-05, b grad -5.72e-06\n",
            "Epoch 105, cost 8.19e-13, m grad -3.35e-05, b grad -5.72e-06\n",
            "Epoch 106, cost 8.19e-13, m grad -3.35e-05, b grad -5.72e-06\n",
            "Epoch 107, cost 8.19e-13, m grad -3.35e-05, b grad -5.72e-06\n",
            "Epoch 108, cost 8.19e-13, m grad -3.35e-05, b grad -5.72e-06\n",
            "Epoch 109, cost 8.19e-13, m grad -3.35e-05, b grad -5.72e-06\n",
            "Epoch 110, cost 8.19e-13, m grad -3.35e-05, b grad -5.72e-06\n",
            "Epoch 111, cost 8.19e-13, m grad -3.35e-05, b grad -5.72e-06\n",
            "Epoch 112, cost 8.19e-13, m grad -3.35e-05, b grad -5.72e-06\n",
            "Epoch 113, cost 8.19e-13, m grad -3.35e-05, b grad -5.72e-06\n",
            "Epoch 114, cost 8.19e-13, m grad -3.35e-05, b grad -5.72e-06\n",
            "Epoch 115, cost 8.19e-13, m grad -3.35e-05, b grad -5.72e-06\n",
            "Epoch 116, cost 8.19e-13, m grad -3.35e-05, b grad -5.72e-06\n",
            "Epoch 117, cost 8.19e-13, m grad -3.35e-05, b grad -5.72e-06\n",
            "Epoch 118, cost 8.19e-13, m grad -3.35e-05, b grad -5.72e-06\n",
            "Epoch 119, cost 8.19e-13, m grad -3.35e-05, b grad -5.72e-06\n",
            "Epoch 120, cost 8.19e-13, m grad -3.35e-05, b grad -5.72e-06\n",
            "Epoch 121, cost 8.19e-13, m grad -3.35e-05, b grad -5.72e-06\n",
            "Epoch 122, cost 8.19e-13, m grad -3.35e-05, b grad -5.72e-06\n",
            "Epoch 123, cost 8.19e-13, m grad -3.35e-05, b grad -5.72e-06\n",
            "Epoch 124, cost 8.19e-13, m grad -3.35e-05, b grad -5.72e-06\n",
            "Epoch 125, cost 8.19e-13, m grad -3.35e-05, b grad -5.72e-06\n",
            "Epoch 126, cost 8.19e-13, m grad -3.35e-05, b grad -5.72e-06\n",
            "Epoch 127, cost 8.19e-13, m grad -3.35e-05, b grad -5.72e-06\n",
            "Epoch 128, cost 8.19e-13, m grad -3.35e-05, b grad -5.72e-06\n",
            "Epoch 129, cost 8.19e-13, m grad -3.35e-05, b grad -5.72e-06\n",
            "Epoch 130, cost 8.19e-13, m grad -3.35e-05, b grad -5.72e-06\n",
            "Epoch 131, cost 8.19e-13, m grad -3.35e-05, b grad -5.72e-06\n",
            "Epoch 132, cost 8.19e-13, m grad -3.35e-05, b grad -5.72e-06\n",
            "Epoch 133, cost 8.19e-13, m grad -3.35e-05, b grad -5.72e-06\n",
            "Epoch 134, cost 8.19e-13, m grad -3.35e-05, b grad -5.72e-06\n",
            "Epoch 135, cost 8.19e-13, m grad -3.35e-05, b grad -5.72e-06\n",
            "Epoch 136, cost 8.19e-13, m grad -3.35e-05, b grad -5.72e-06\n",
            "Epoch 137, cost 8.19e-13, m grad -3.35e-05, b grad -5.72e-06\n",
            "Epoch 138, cost 8.19e-13, m grad -3.35e-05, b grad -5.72e-06\n",
            "Epoch 139, cost 8.19e-13, m grad -3.35e-05, b grad -5.72e-06\n",
            "Epoch 140, cost 8.19e-13, m grad -3.35e-05, b grad -5.72e-06\n",
            "Epoch 141, cost 8.19e-13, m grad -3.35e-05, b grad -5.72e-06\n",
            "Epoch 142, cost 8.19e-13, m grad -3.35e-05, b grad -5.72e-06\n",
            "Epoch 143, cost 8.19e-13, m grad -3.35e-05, b grad -5.72e-06\n",
            "Epoch 144, cost 8.19e-13, m grad -3.35e-05, b grad -5.72e-06\n",
            "Epoch 145, cost 8.19e-13, m grad -3.35e-05, b grad -5.72e-06\n",
            "Epoch 146, cost 8.19e-13, m grad -3.35e-05, b grad -5.72e-06\n",
            "Epoch 147, cost 8.19e-13, m grad -3.35e-05, b grad -5.72e-06\n",
            "Epoch 148, cost 8.19e-13, m grad -3.35e-05, b grad -5.72e-06\n",
            "Epoch 149, cost 8.19e-13, m grad -3.35e-05, b grad -5.72e-06\n",
            "Epoch 150, cost 8.19e-13, m grad -3.35e-05, b grad -5.72e-06\n",
            "Epoch 151, cost 8.19e-13, m grad -3.35e-05, b grad -5.72e-06\n",
            "Epoch 152, cost 8.19e-13, m grad -3.35e-05, b grad -5.72e-06\n",
            "Epoch 153, cost 8.19e-13, m grad -3.35e-05, b grad -5.72e-06\n",
            "Epoch 154, cost 8.19e-13, m grad -3.35e-05, b grad -5.72e-06\n",
            "Epoch 155, cost 8.19e-13, m grad -3.35e-05, b grad -5.72e-06\n",
            "Epoch 156, cost 8.19e-13, m grad -3.35e-05, b grad -5.72e-06\n",
            "Epoch 157, cost 8.19e-13, m grad -3.35e-05, b grad -5.72e-06\n",
            "Epoch 158, cost 8.19e-13, m grad -3.35e-05, b grad -5.72e-06\n",
            "Epoch 159, cost 8.19e-13, m grad -3.35e-05, b grad -5.72e-06\n",
            "Epoch 160, cost 8.19e-13, m grad -3.35e-05, b grad -5.72e-06\n",
            "Epoch 161, cost 8.19e-13, m grad -3.35e-05, b grad -5.72e-06\n",
            "Epoch 162, cost 8.19e-13, m grad -3.35e-05, b grad -5.72e-06\n",
            "Epoch 163, cost 8.19e-13, m grad -3.35e-05, b grad -5.72e-06\n",
            "Epoch 164, cost 8.19e-13, m grad -3.35e-05, b grad -5.72e-06\n",
            "Epoch 165, cost 8.19e-13, m grad -3.35e-05, b grad -5.72e-06\n",
            "Epoch 166, cost 8.19e-13, m grad -3.35e-05, b grad -5.72e-06\n",
            "Epoch 167, cost 8.19e-13, m grad -3.35e-05, b grad -5.72e-06\n",
            "Epoch 168, cost 8.19e-13, m grad -3.35e-05, b grad -5.72e-06\n",
            "Epoch 169, cost 8.19e-13, m grad -3.35e-05, b grad -5.72e-06\n",
            "Epoch 170, cost 8.19e-13, m grad -3.35e-05, b grad -5.72e-06\n",
            "Epoch 171, cost 8.19e-13, m grad -3.35e-05, b grad -5.72e-06\n",
            "Epoch 172, cost 8.19e-13, m grad -3.35e-05, b grad -5.72e-06\n",
            "Epoch 173, cost 8.19e-13, m grad -3.35e-05, b grad -5.72e-06\n",
            "Epoch 174, cost 8.19e-13, m grad -3.35e-05, b grad -5.72e-06\n",
            "Epoch 175, cost 8.19e-13, m grad -3.35e-05, b grad -5.72e-06\n",
            "Epoch 176, cost 8.19e-13, m grad -3.35e-05, b grad -5.72e-06\n",
            "Epoch 177, cost 8.19e-13, m grad -3.35e-05, b grad -5.72e-06\n",
            "Epoch 178, cost 8.19e-13, m grad -3.35e-05, b grad -5.72e-06\n",
            "Epoch 179, cost 8.19e-13, m grad -3.35e-05, b grad -5.72e-06\n",
            "Epoch 180, cost 8.19e-13, m grad -3.35e-05, b grad -5.72e-06\n",
            "Epoch 181, cost 8.19e-13, m grad -3.35e-05, b grad -5.72e-06\n",
            "Epoch 182, cost 8.19e-13, m grad -3.35e-05, b grad -5.72e-06\n",
            "Epoch 183, cost 8.19e-13, m grad -3.35e-05, b grad -5.72e-06\n",
            "Epoch 184, cost 8.19e-13, m grad -3.35e-05, b grad -5.72e-06\n",
            "Epoch 185, cost 8.19e-13, m grad -3.35e-05, b grad -5.72e-06\n",
            "Epoch 186, cost 8.19e-13, m grad -3.35e-05, b grad -5.72e-06\n",
            "Epoch 187, cost 8.19e-13, m grad -3.35e-05, b grad -5.72e-06\n",
            "Epoch 188, cost 8.19e-13, m grad -3.35e-05, b grad -5.72e-06\n",
            "Epoch 189, cost 8.19e-13, m grad -3.35e-05, b grad -5.72e-06\n",
            "Epoch 190, cost 8.19e-13, m grad -3.35e-05, b grad -5.72e-06\n",
            "Epoch 191, cost 8.19e-13, m grad -3.35e-05, b grad -5.72e-06\n",
            "Epoch 192, cost 8.19e-13, m grad -3.35e-05, b grad -5.72e-06\n",
            "Epoch 193, cost 8.19e-13, m grad -3.35e-05, b grad -5.72e-06\n",
            "Epoch 194, cost 8.19e-13, m grad -3.35e-05, b grad -5.72e-06\n",
            "Epoch 195, cost 8.19e-13, m grad -3.35e-05, b grad -5.72e-06\n",
            "Epoch 196, cost 8.19e-13, m grad -3.35e-05, b grad -5.72e-06\n",
            "Epoch 197, cost 8.19e-13, m grad -3.35e-05, b grad -5.72e-06\n",
            "Epoch 198, cost 8.19e-13, m grad -3.35e-05, b grad -5.72e-06\n",
            "Epoch 199, cost 8.19e-13, m grad -3.35e-05, b grad -5.72e-06\n"
          ]
        }
      ]
    },
    {
      "cell_type": "code",
      "source": [
        "# Plottig the last epoch... moment of truth.\n",
        "\n",
        "regression_plot(x, y, b, m)\n",
        "print(C)"
      ],
      "metadata": {
        "colab": {
          "base_uri": "https://localhost:8080/",
          "height": 448
        },
        "id": "xlkn_ssLLCwu",
        "outputId": "160942b5-bf92-46dd-e97a-95b7d60e29cc"
      },
      "execution_count": 19,
      "outputs": [
        {
          "output_type": "stream",
          "name": "stdout",
          "text": [
            "tensor(8.1855e-13, grad_fn=<DivBackward0>)\n"
          ]
        },
        {
          "output_type": "display_data",
          "data": {
            "text/plain": [
              "<Figure size 640x480 with 1 Axes>"
            ],
            "image/png": "[encoded data removed]"
          },
          "metadata": {}
        }
      ]
    }
  ]
}